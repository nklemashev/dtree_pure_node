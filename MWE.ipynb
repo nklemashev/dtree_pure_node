{
 "cells": [
  {
   "cell_type": "code",
   "execution_count": 1,
   "metadata": {},
   "outputs": [
    {
     "name": "stdout",
     "output_type": "stream",
     "text": [
      "sklearn version: 1.1.1\n",
      "Impurity of node 6: 3.278258635663889e-07\n",
      "Weighted number of samples with y = 1: 0.0\n",
      "Unique labels in node 6: [0]\n",
      "Impurity of node 0: 0.0\n"
     ]
    }
   ],
   "source": [
    "import numpy as np\n",
    "from sklearn.tree import DecisionTreeClassifier\n",
    "import sklearn\n",
    "\n",
    "print('sklearn version: %s' % str(sklearn.__version__))\n",
    "\n",
    "X = np.load('X.npy')\n",
    "y = np.load('y.npy')\n",
    "sample_weight = np.load('sample_weight.npy')\n",
    "\n",
    "cfl = DecisionTreeClassifier(\n",
    "    max_depth = 3,\n",
    "    criterion = 'gini'\n",
    ").fit(X, y, sample_weight)\n",
    "\n",
    "print('Impurity of node 6: %s' % str(cfl.tree_.impurity[6]))\n",
    "print('Weighted number of samples with y = 1: %s' % str(cfl.tree_.value[6][0, 1]))\n",
    "\n",
    "X_dp = cfl.decision_path(X).toarray()\n",
    "\n",
    "print('Unique labels in node 6: %s' % str(np.unique(y[X_dp[:, 6] == 1])))\n",
    "\n",
    "cfl_sub = DecisionTreeClassifier(\n",
    "    max_depth = 3,\n",
    "    criterion = 'gini'\n",
    ").fit(X[X_dp[:, 6] == 1, :], y[X_dp[:, 6] == 1], sample_weight[X_dp[:, 6] == 1])\n",
    "\n",
    "print('Impurity of node 0: %s' % str(cfl_sub.tree_.impurity[0]))"
   ]
  }
 ],
 "metadata": {
  "kernelspec": {
   "display_name": "Python 3",
   "language": "python",
   "name": "python3"
  },
  "language_info": {
   "codemirror_mode": {
    "name": "ipython",
    "version": 3
   },
   "file_extension": ".py",
   "mimetype": "text/x-python",
   "name": "python",
   "nbconvert_exporter": "python",
   "pygments_lexer": "ipython3",
   "version": "3.8.5"
  }
 },
 "nbformat": 4,
 "nbformat_minor": 4
}
